{
 "cells": [
  {
   "cell_type": "code",
   "execution_count": 1,
   "metadata": {},
   "outputs": [],
   "source": [
    "df = pklload('/Users/ben/data/indradb/2021-08-09/sif.pkl')"
   ]
  },
  {
   "cell_type": "code",
   "execution_count": 2,
   "metadata": {},
   "outputs": [
    {
     "name": "stderr",
     "output_type": "stream",
     "text": [
      "INFO: [2021-09-19 20:39:33] indra.ontology.bio.ontology - Loading INDRA bio ontology from cache at /Users/ben/.indra/bio_ontology/1.17/bio_ontology.pkl\n"
     ]
    }
   ],
   "source": [
    "from indra.ontology.bio import bio_ontology\n",
    "bio_ontology.initialize()"
   ]
  },
  {
   "cell_type": "code",
   "execution_count": 3,
   "metadata": {},
   "outputs": [],
   "source": [
    "def get_type(ns, id):\n",
    "    type = bio_ontology.get_type(ns, id)\n",
    "    if type:\n",
    "        return type\n",
    "    if ns == 'CHEBI':\n",
    "        return 'small_molecule'\n",
    "    if ns == 'UP':\n",
    "        return 'nonhuman_gene_protein'\n",
    "    return None"
   ]
  },
  {
   "cell_type": "code",
   "execution_count": 4,
   "metadata": {},
   "outputs": [],
   "source": [
    "types = defaultdict(int)\n",
    "types_evidence = defaultdict(int)\n",
    "for ans, aid, bns, bid, ec in zip(df['agA_ns'], df['agA_id'], df['agB_ns'], df['agB_id'], df['evidence_count']):\n",
    "    atype = get_type(ans, aid)\n",
    "    btype = get_type(bns, bid)\n",
    "    types[(atype, btype)] += 1\n",
    "    types_evidence[(atype, btype)] += ec"
   ]
  },
  {
   "cell_type": "code",
   "execution_count": 8,
   "metadata": {},
   "outputs": [],
   "source": [
    "from indra.util import write_unicode_csv\n",
    "def dump_counts(fname, counts_dict):\n",
    "    rows = [['agA_type', 'agB_type', 'count']]\n",
    "    for (agA_type, agB_type), count in sorted(counts_dict.items(), key=lambda x: x[1], reverse=True):\n",
    "        rows.append([agA_type, agB_type, count])\n",
    "    write_unicode_csv(fname, rows)"
   ]
  },
  {
   "cell_type": "code",
   "execution_count": 9,
   "metadata": {},
   "outputs": [],
   "source": [
    "dump_counts('statements_by_agent_type.csv', types)"
   ]
  },
  {
   "cell_type": "code",
   "execution_count": 10,
   "metadata": {},
   "outputs": [],
   "source": [
    "dump_counts('statements_by_agent_type_evidence.csv', types_evidence)"
   ]
  },
  {
   "cell_type": "code",
   "execution_count": null,
   "metadata": {},
   "outputs": [],
   "source": []
  }
 ],
 "metadata": {
  "kernelspec": {
   "display_name": "Python 3",
   "language": "python",
   "name": "python3"
  },
  "language_info": {
   "codemirror_mode": {
    "name": "ipython",
    "version": 3
   },
   "file_extension": ".py",
   "mimetype": "text/x-python",
   "name": "python",
   "nbconvert_exporter": "python",
   "pygments_lexer": "ipython3",
   "version": "3.9.6"
  }
 },
 "nbformat": 4,
 "nbformat_minor": 4
}
